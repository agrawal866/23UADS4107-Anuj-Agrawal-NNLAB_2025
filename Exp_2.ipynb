{
  "nbformat": 4,
  "nbformat_minor": 0,
  "metadata": {
    "colab": {
      "provenance": [],
      "authorship_tag": "ABX9TyOV9JF6ZLLpJoAi7cIQC57p",
      "include_colab_link": true
    },
    "kernelspec": {
      "name": "python3",
      "display_name": "Python 3"
    },
    "language_info": {
      "name": "python"
    }
  },
  "cells": [
    {
      "cell_type": "markdown",
      "metadata": {
        "id": "view-in-github",
        "colab_type": "text"
      },
      "source": [
        "<a href=\"https://colab.research.google.com/github/agrawal866/23UADS4107-Anuj-Agrawal-NNLAB_2025/blob/main/Exp_2.ipynb\" target=\"_parent\"><img src=\"https://colab.research.google.com/assets/colab-badge.svg\" alt=\"Open In Colab\"/></a>"
      ]
    },
    {
      "cell_type": "code",
      "execution_count": null,
      "metadata": {
        "id": "YEtT_ZQQL-xH"
      },
      "outputs": [],
      "source": []
    },
    {
      "cell_type": "code",
      "source": [],
      "metadata": {
        "id": "2n1zNbGpPtp7"
      },
      "execution_count": null,
      "outputs": []
    },
    {
      "cell_type": "markdown",
      "source": [
        "**EXPERIMENT** 2: Implemantation of Multi Layer Perceptron\n",
        "\n",
        "\n",
        "1. **Objective**\n",
        "\n",
        "WAP to implement a multi-layer perceptron (MLP) network with one hidden layer using numpy in Python. Demonstrate that it can learn the XOR Boolean function.\n",
        "\n",
        "2. **Description of the model**\n",
        "\n",
        "\n",
        "\n",
        "\n"
      ],
      "metadata": {
        "id": "HEahKPmpL_9V"
      }
    },
    {
      "cell_type": "markdown",
      "source": [
        "The code implements a multi-stage Perceptron model to classify custom Boolean functions and combines their outputs to train a final perceptron. The model uses a basic single-layer perceptron architecture with a step activation function. The learning process involves adjusting weights through the perceptron learning rule based on prediction errors."
      ],
      "metadata": {
        "id": "eIY6id5XAolN"
      }
    },
    {
      "cell_type": "markdown",
      "source": [
        "\n",
        "*   **Input**: Boolean truth tables (two binary inputs for each function)\n",
        "*   **Output**: Binary classifications (0 or 1)\n",
        "\n"
      ],
      "metadata": {
        "id": "zpAXbINbAw5C"
      }
    },
    {
      "cell_type": "markdown",
      "source": [
        "The model is trained and evaluated on four intermediate Boolean functions, and their predictions are used as input for a final perceptron to make a more complex decision.\n"
      ],
      "metadata": {
        "id": "T0kdc8E_BOxq"
      }
    },
    {
      "cell_type": "markdown",
      "source": [
        "3. **Python Implementation**"
      ],
      "metadata": {
        "id": "aVhfH93cBVVS"
      }
    },
    {
      "cell_type": "markdown",
      "source": [],
      "metadata": {
        "id": "7WPSbhC_BSHL"
      }
    },
    {
      "cell_type": "code",
      "source": [
        "import numpy as np\n",
        "import matplotlib.pyplot as plt\n",
        "import seaborn as sns\n",
        "from sklearn.metrics import confusion_matrix\n",
        "\n",
        "class Perceptron:\n",
        "    def __init__(self, input_size, learning_rate=0.1, epochs=100):\n",
        "        self.weights = np.random.randn(input_size + 1)  # +1 for bias\n",
        "        self.learning_rate = learning_rate\n",
        "        self.epochs = epochs\n",
        "\n",
        "    def activation(self, x):\n",
        "        return 1 if x >= 0 else 0\n",
        "\n",
        "    def predict(self, x):\n",
        "        x = np.insert(x, 0, 1)  # Add bias term\n",
        "        return self.activation(np.dot(self.weights, x))\n",
        "\n",
        "    def train(self, X, y):\n",
        "        X = np.c_[np.ones(X.shape[0]), X]  # Add bias column\n",
        "        for _ in range(self.epochs):\n",
        "            for i in range(X.shape[0]):\n",
        "                y_pred = self.activation(np.dot(self.weights, X[i]))\n",
        "                self.weights += self.learning_rate * (y[i] - y_pred) * X[i]\n",
        "\n",
        "    def evaluate(self, X, y):\n",
        "        y_pred = np.array([self.predict(x) for x in X])\n",
        "        accuracy = np.mean(y_pred == y) * 100\n",
        "        return accuracy, y_pred\n",
        "\n",
        "# **Function to Train and Evaluate a Perceptron**\n",
        "def train_perceptron(X, y, name):\n",
        "    p = Perceptron(input_size=X.shape[1])\n",
        "    p.train(X, y)\n",
        "    accuracy, predictions = p.evaluate(X, y)\n",
        "    print(f\"{name} Accuracy: {accuracy:.2f}% | Predictions: {predictions}\")\n",
        "    return predictions, y\n",
        "\n",
        "# **Truth Tables for Boolean Functions**\n",
        "fun_X = np.array([[0, 0], [0, 1], [1, 0], [1, 1]])\n",
        "\n",
        "fun1_y = np.array([0, 0, 0, 1])  # NAND\n",
        "fun2_y = np.array([0, 0, 1, 0])  # Custom function\n",
        "fun3_y = np.array([0, 1, 0, 0])  # Custom function\n",
        "fun4_y = np.array([1, 0, 0, 0])  # Custom function\n",
        "\n",
        "# **Train Perceptrons for Individual Functions**\n",
        "fun1_predictions, _ = train_perceptron(fun_X, fun1_y, \"Fun1\")\n",
        "fun2_predictions, _ = train_perceptron(fun_X, fun2_y, \"Fun2\")\n",
        "fun3_predictions, _ = train_perceptron(fun_X, fun3_y, \"Fun3\")\n",
        "fun4_predictions, _ = train_perceptron(fun_X, fun4_y, \"Fun4\")\n",
        "\n",
        "# **Final Perceptron Training**\n",
        "final_X = np.column_stack([fun1_predictions, fun2_predictions, fun3_predictions, fun4_predictions])\n",
        "final_y = np.array([0, 1, 1, 0])\n",
        "\n",
        "final_predictions, actual_y = train_perceptron(final_X, final_y, \"Final Perceptron\")\n",
        "\n",
        "# **Confusion Matrix Plot**\n",
        "def plot_confusion_matrix(y_true, y_pred, title=\"Confusion Matrix\"):\n",
        "    cm = confusion_matrix(y_true, y_pred)\n",
        "    plt.figure(figsize=(5, 4))\n",
        "    sns.heatmap(cm, annot=True, fmt=\"d\", cmap=\"Blues\", xticklabels=[\"0 (False)\", \"1 (True)\"], yticklabels=[\"0 (False)\", \"1 (True)\"])\n",
        "    plt.xlabel(\"Predicted Label\")\n",
        "    plt.ylabel(\"Actual Label\")\n",
        "    plt.title(title)\n",
        "    plt.show()\n",
        "\n",
        "# **Plot Confusion Matrix for Final Perceptron**\n",
        "plot_confusion_matrix(actual_y, final_predictions, title=\"Final Perceptron Confusion Matrix\")"
      ],
      "metadata": {
        "colab": {
          "base_uri": "https://localhost:8080/",
          "height": 497
        },
        "id": "1UtJ9g4YCGkC",
        "outputId": "447a1373-0440-4f9b-cf64-7a8959eb5b9b"
      },
      "execution_count": 1,
      "outputs": [
        {
          "output_type": "stream",
          "name": "stdout",
          "text": [
            "Fun1 Accuracy: 100.00% | Predictions: [0 0 0 1]\n",
            "Fun2 Accuracy: 100.00% | Predictions: [0 0 1 0]\n",
            "Fun3 Accuracy: 100.00% | Predictions: [0 1 0 0]\n",
            "Fun4 Accuracy: 100.00% | Predictions: [1 0 0 0]\n",
            "Final Perceptron Accuracy: 100.00% | Predictions: [0 1 1 0]\n"
          ]
        },
        {
          "output_type": "display_data",
          "data": {
            "text/plain": [
              "<Figure size 500x400 with 2 Axes>"
            ],
            "image/png": "[encoded data removed]"
          },
          "metadata": {}
        }
      ]
    },
    {
      "cell_type": "markdown",
      "source": [
        "4. **Code Description**:"
      ],
      "metadata": {
        "id": "ZBIL8XjiCeAS"
      }
    },
    {
      "cell_type": "markdown",
      "source": [
        "\n",
        "\n",
        "a.   Perceptron Class:\n",
        "\n",
        "\n",
        "*   __init__: Initializes weights (including bias), learning rate, and epochs.\n",
        "\n",
        "* activation: Applies a step function (returns 1 if input >= 0, else 0).\n",
        "\n",
        "* predict: Makes predictions by computing the dot product of inputs and weights.\n",
        "\n",
        "* train: Updates the perceptron weights using the perceptron learning rule.\n",
        "\n",
        "* evaluate: Calculates the accuracy and returns predictions.\n",
        "\n",
        "\n",
        "b.   train_perceptron Function:\n",
        "* Initializes and trains a Perceptron model.\n",
        "* Prints accuracy and predictions.\n",
        "\n",
        "c. Training Individual Perceptrons:\n",
        "\n",
        "* Trains perceptrons on four different Boolean functions.\n",
        "\n",
        "d. Final Perceptron:\n",
        "\n",
        "* Combines outputs of the four perceptrons.\n",
        "\n",
        "* Trains and evaluates a new perceptron using these outputs.\n",
        "\n",
        "e. plot_confusion_matrix Function:\n",
        "\n",
        "* Visualizes model performance using a confusion matrix heatmap.\n",
        "\n"
      ],
      "metadata": {
        "id": "zhjqC5cjCq75"
      }
    },
    {
      "cell_type": "markdown",
      "source": [
        "5. **Comments**:\n",
        "* Added a confusion matrix at the end for better evaluation.\n",
        "* Trained perceptrons for multiple functions, including NAND.\n",
        "* Final perceptron takes outputs from previous layers as inputs.\n",
        "* This should work well for learning simple Boolean functions.\n",
        "* Overall, the perceptron is successfully trained and evaluated!"
      ],
      "metadata": {
        "id": "ivsjj0OiENya"
      }
    }
  ]
}